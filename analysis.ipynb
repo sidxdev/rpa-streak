{
 "cells": [
  {
   "cell_type": "code",
   "execution_count": null,
   "metadata": {},
   "outputs": [],
   "source": [
    "import pandas as pd\n",
    "import numpy as np\n",
    "import glob\n",
    "import re\n",
    "import os\n"
   ]
  },
  {
   "cell_type": "code",
   "execution_count": null,
   "metadata": {},
   "outputs": [],
   "source": [
    "id = 'sl5tp300et9_20'\n",
    "# Read all csv files\n",
    "files = glob.glob(f'data/*{id}.csv')\n",
    "\n",
    "df = pd.concat((pd.read_csv(file) for file in files))\n",
    "\n",
    "# Clean up headers\n",
    "df = df[pd.isna(df['Instrument']) == False]\n",
    "df.reset_index(drop=True, inplace=True)\n"
   ]
  },
  {
   "cell_type": "code",
   "execution_count": null,
   "metadata": {},
   "outputs": [],
   "source": [
    "# Calculate some columns\n",
    "df['Credit/Debit'] = df['Quantity'] * df['Price'] * -1\n",
    "date_regex = r\"(\\d{2}) (\\w{3}) (\\d{4})\"\n",
    "matches = df['Trigger Date'].apply(lambda row: re.search(date_regex, row))\n",
    "df['Date'] = matches.apply(lambda match: match.group(1))\n",
    "df['Month'] = matches.apply(lambda match: match.group(2))\n",
    "df['Year'] = matches.apply(lambda match: match.group(3))\n",
    "df['Datetime'] = df[['Year', 'Month', 'Date']].astype(str).apply('-'.join, 1)\n",
    "df['Datetime'] = pd.to_datetime(df['Datetime'])\n",
    "df = df.sort_values(by=['Datetime'])\n",
    "df = df.drop_duplicates(subset=['Trigger Date', 'Instrument', 'Buy/Sell'])\n",
    "\n",
    "# Save output\n",
    "output_file = f'output_{id}.xlsx'\n",
    "df.to_excel(output_file, sheet_name='Raw', index=False)\n"
   ]
  },
  {
   "cell_type": "code",
   "execution_count": null,
   "metadata": {},
   "outputs": [],
   "source": [
    "# Analysis\n",
    "df.pivot_table(index=['Month'], columns=['Year'], values=[\n",
    "               'Credit/Debit'], aggfunc='sum', margins=True, sort=False).iloc[:, :-1]\n"
   ]
  },
  {
   "cell_type": "code",
   "execution_count": null,
   "metadata": {},
   "outputs": [],
   "source": []
  }
 ],
 "metadata": {
  "interpreter": {
   "hash": "63fd5069d213b44bf678585dea6b12cceca9941eaf7f819626cde1f2670de90d"
  },
  "kernelspec": {
   "display_name": "Python 3.9.6 64-bit",
   "language": "python",
   "name": "python3"
  },
  "language_info": {
   "codemirror_mode": {
    "name": "ipython",
    "version": 3
   },
   "file_extension": ".py",
   "mimetype": "text/x-python",
   "name": "python",
   "nbconvert_exporter": "python",
   "pygments_lexer": "ipython3",
   "version": "3.8.6"
  },
  "orig_nbformat": 4
 },
 "nbformat": 4,
 "nbformat_minor": 2
}
