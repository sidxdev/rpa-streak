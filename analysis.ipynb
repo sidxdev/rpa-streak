{
 "cells": [
  {
   "cell_type": "code",
   "execution_count": 1,
   "metadata": {},
   "outputs": [],
   "source": [
    "import pandas as pd\n",
    "import numpy as np\n",
    "import glob\n",
    "import re\n",
    "import win32com.client as win32\n",
    "import os\n",
    "win32c = win32.constants"
   ]
  },
  {
   "cell_type": "code",
   "execution_count": 2,
   "metadata": {},
   "outputs": [],
   "source": [
    "# Read all csv files\n",
    "files = glob.glob(\"data/*.csv\")\n",
    "\n",
    "df = pd.concat((pd.read_csv(file) for file in files))\n",
    "\n",
    "# Clean up headers\n",
    "df = df[pd.isna(df['Instrument']) == False]\n",
    "df.reset_index(drop=True, inplace=True)"
   ]
  },
  {
   "cell_type": "code",
   "execution_count": 3,
   "metadata": {},
   "outputs": [],
   "source": [
    "# Calculate some columns\n",
    "df['Credit/Debit'] = df['Quantity'] * df['Price'] * -1\n",
    "date_regex = r\"(\\d{2}) (\\w{3}) (\\d{4})\"\n",
    "matches = df['Trigger Date'].apply(lambda row: re.search(date_regex, row))\n",
    "df['Date'] = matches.apply(lambda match: match.group(1))\n",
    "df['Month'] = matches.apply(lambda match: match.group(2))\n",
    "df['Year'] = matches.apply(lambda match: match.group(3))\n",
    "\n",
    "# Save output\n",
    "output_file = 'output.xlsx'\n",
    "os.remove(output_file)\n",
    "writer = pd.ExcelWriter(output_file) \n",
    "df.to_excel(writer, sheet_name = 'Raw', index=False)\n",
    "\n",
    "# Auto adjust column width\n",
    "for column in df:\n",
    "    column_length = max(df[column].astype(str).map(len).max(), len(column))\n",
    "    col_idx = df.columns.get_loc(column)\n",
    "    writer.sheets['Raw'].set_column(col_idx, col_idx, column_length)\n",
    "\n",
    "writer.save()"
   ]
  },
  {
   "cell_type": "code",
   "execution_count": 4,
   "metadata": {},
   "outputs": [
    {
     "data": {
      "text/html": [
       "<div>\n",
       "<style scoped>\n",
       "    .dataframe tbody tr th:only-of-type {\n",
       "        vertical-align: middle;\n",
       "    }\n",
       "\n",
       "    .dataframe tbody tr th {\n",
       "        vertical-align: top;\n",
       "    }\n",
       "\n",
       "    .dataframe thead th {\n",
       "        text-align: right;\n",
       "    }\n",
       "</style>\n",
       "<table border=\"1\" class=\"dataframe\">\n",
       "  <thead>\n",
       "    <tr style=\"text-align: right;\">\n",
       "      <th></th>\n",
       "      <th></th>\n",
       "      <th>Credit/Debit</th>\n",
       "    </tr>\n",
       "    <tr>\n",
       "      <th>Year</th>\n",
       "      <th>Month</th>\n",
       "      <th></th>\n",
       "    </tr>\n",
       "  </thead>\n",
       "  <tbody>\n",
       "    <tr>\n",
       "      <th rowspan=\"12\" valign=\"top\">2021</th>\n",
       "      <th>Apr</th>\n",
       "      <td>13711.247101</td>\n",
       "    </tr>\n",
       "    <tr>\n",
       "      <th>Aug</th>\n",
       "      <td>13662.499847</td>\n",
       "    </tr>\n",
       "    <tr>\n",
       "      <th>Dec</th>\n",
       "      <td>13601.250420</td>\n",
       "    </tr>\n",
       "    <tr>\n",
       "      <th>Feb</th>\n",
       "      <td>-8731.248856</td>\n",
       "    </tr>\n",
       "    <tr>\n",
       "      <th>Jan</th>\n",
       "      <td>14833.750916</td>\n",
       "    </tr>\n",
       "    <tr>\n",
       "      <th>Jul</th>\n",
       "      <td>-9417.498550</td>\n",
       "    </tr>\n",
       "    <tr>\n",
       "      <th>Jun</th>\n",
       "      <td>-14436.247101</td>\n",
       "    </tr>\n",
       "    <tr>\n",
       "      <th>Mar</th>\n",
       "      <td>-3133.748550</td>\n",
       "    </tr>\n",
       "    <tr>\n",
       "      <th>May</th>\n",
       "      <td>25036.249695</td>\n",
       "    </tr>\n",
       "    <tr>\n",
       "      <th>Nov</th>\n",
       "      <td>34527.497711</td>\n",
       "    </tr>\n",
       "    <tr>\n",
       "      <th>Oct</th>\n",
       "      <td>19089.998741</td>\n",
       "    </tr>\n",
       "    <tr>\n",
       "      <th>Sep</th>\n",
       "      <td>23440.000343</td>\n",
       "    </tr>\n",
       "  </tbody>\n",
       "</table>\n",
       "</div>"
      ],
      "text/plain": [
       "            Credit/Debit\n",
       "Year Month              \n",
       "2021 Apr    13711.247101\n",
       "     Aug    13662.499847\n",
       "     Dec    13601.250420\n",
       "     Feb    -8731.248856\n",
       "     Jan    14833.750916\n",
       "     Jul    -9417.498550\n",
       "     Jun   -14436.247101\n",
       "     Mar    -3133.748550\n",
       "     May    25036.249695\n",
       "     Nov    34527.497711\n",
       "     Oct    19089.998741\n",
       "     Sep    23440.000343"
      ]
     },
     "execution_count": 4,
     "metadata": {},
     "output_type": "execute_result"
    }
   ],
   "source": [
    "# Analysis\n",
    "df.pivot_table(index=['Year', 'Month'], values=['Credit/Debit'], aggfunc='sum')"
   ]
  },
  {
   "cell_type": "code",
   "execution_count": 1,
   "metadata": {},
   "outputs": [
    {
     "name": "stdout",
     "output_type": "stream",
     "text": [
      "January 2021\n"
     ]
    }
   ],
   "source": []
  }
 ],
 "metadata": {
  "interpreter": {
   "hash": "63fd5069d213b44bf678585dea6b12cceca9941eaf7f819626cde1f2670de90d"
  },
  "kernelspec": {
   "display_name": "Python 3.9.6 64-bit",
   "language": "python",
   "name": "python3"
  },
  "language_info": {
   "codemirror_mode": {
    "name": "ipython",
    "version": 3
   },
   "file_extension": ".py",
   "mimetype": "text/x-python",
   "name": "python",
   "nbconvert_exporter": "python",
   "pygments_lexer": "ipython3",
   "version": "3.9.6"
  },
  "orig_nbformat": 4
 },
 "nbformat": 4,
 "nbformat_minor": 2
}
