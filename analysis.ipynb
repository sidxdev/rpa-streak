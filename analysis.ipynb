{
 "cells": [
  {
   "cell_type": "code",
   "execution_count": null,
   "metadata": {},
   "outputs": [],
   "source": [
    "import pandas as pd\n",
    "import numpy as np\n",
    "import glob\n",
    "import re\n"
   ]
  },
  {
   "cell_type": "code",
   "execution_count": null,
   "metadata": {},
   "outputs": [],
   "source": [
    "class Analysis():\n",
    "    def __init__(self, id, files):\n",
    "        self.id = id\n",
    "\n",
    "        # Read csv files\n",
    "        self.df = pd.concat((pd.read_csv(file) for file in files))\n",
    "\n",
    "        # Clean up headers\n",
    "        self.df = self.df[pd.isna(self.df['Instrument']) == False]\n",
    "        self.df.reset_index(drop=True, inplace=True)\n",
    "\n",
    "        # Calculate some columns\n",
    "        self.df['Credit/Debit'] = self.df['Quantity'] * self.df['Price'] * -1\n",
    "        date_regex = r\"(\\d{2}) (\\w{3}) (\\d{4})\"\n",
    "        matches = self.df['Trigger Date'].apply(\n",
    "            lambda row: re.search(date_regex, row))\n",
    "        self.df['Date'] = matches.apply(lambda match: match.group(1))\n",
    "        self.df['Month'] = matches.apply(lambda match: match.group(2))\n",
    "        self.df['Year'] = matches.apply(lambda match: match.group(3))\n",
    "        self.df['Datetime'] = self.df[['Year', 'Month', 'Date']].astype(\n",
    "            str).apply('-'.join, 1)\n",
    "        self.df['Datetime'] = pd.to_datetime(self.df['Datetime'])\n",
    "        self.df = self.df.sort_values(by=['Datetime'])\n",
    "        self.df = self.df.drop_duplicates(\n",
    "            subset=['Trigger Date', 'Instrument', 'Buy/Sell'])\n",
    "\n",
    "    def save(self):\n",
    "        # Save output\n",
    "        output_file = f'output_{self.id}.xlsx'\n",
    "        self.df.to_excel(output_file, sheet_name='Raw', index=False)\n",
    "\n",
    "    def aggregate(self):\n",
    "        return self.df.pivot_table(index=['Month'], columns=['Year'], values=[\n",
    "            'Credit/Debit'], aggfunc='sum', margins=True, sort=False).iloc[:, :-1]\n"
   ]
  },
  {
   "cell_type": "code",
   "execution_count": null,
   "metadata": {},
   "outputs": [],
   "source": [
    "# Read all csv files\n",
    "files = pd.DataFrame(glob.glob(f'data/*.csv'))\n",
    "files['id'] = files[0].str.split(\"_\", n=1, expand=True)[1]\n",
    "files['id'] = files['id'].str.replace('.csv', '', regex=False)\n",
    "ids = files['id'].unique()\n"
   ]
  },
  {
   "cell_type": "code",
   "execution_count": null,
   "metadata": {},
   "outputs": [],
   "source": [
    "for id in ids:\n",
    "    analysis = Analysis(id, files[files['id'] == id][0])\n",
    "    analysis.save()\n",
    "    print(f'Analysis of {id}')\n",
    "    # Analysis\n",
    "    print(analysis.aggregate())\n",
    "    print()\n"
   ]
  },
  {
   "cell_type": "code",
   "execution_count": null,
   "metadata": {},
   "outputs": [],
   "source": []
  }
 ],
 "metadata": {
  "interpreter": {
   "hash": "63fd5069d213b44bf678585dea6b12cceca9941eaf7f819626cde1f2670de90d"
  },
  "kernelspec": {
   "display_name": "Python 3.9.6 64-bit",
   "language": "python",
   "name": "python3"
  },
  "language_info": {
   "codemirror_mode": {
    "name": "ipython",
    "version": 3
   },
   "file_extension": ".py",
   "mimetype": "text/x-python",
   "name": "python",
   "nbconvert_exporter": "python",
   "pygments_lexer": "ipython3",
   "version": "3.8.6"
  },
  "orig_nbformat": 4
 },
 "nbformat": 4,
 "nbformat_minor": 2
}
